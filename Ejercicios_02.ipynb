{
 "cells": [
  {
   "cell_type": "code",
   "execution_count": 1,
   "metadata": {
    "collapsed": true
   },
   "outputs": [],
   "source": [
    "%matplotlib inline\n",
    "import numpy as np\n",
    "from scipy import stats\n",
    "import matplotlib.pyplot as plt\n",
    "import seaborn as sns\n",
    "plt.style.use(['seaborn-colorblind', 'seaborn-darkgrid'])"
   ]
  },
  {
   "cell_type": "code",
   "execution_count": 2,
   "metadata": {},
   "outputs": [
    {
     "data": {
      "text/plain": [
       "array([1, 2, 3, 4, 5, 6])"
      ]
     },
     "execution_count": 2,
     "metadata": {},
     "output_type": "execute_result"
    }
   ],
   "source": [
    "distri = stats.randint(1, 7)  # límite inferior, límite superior + 1\n",
    "x = np.arange(1, 7)\n",
    "x"
   ]
  },
  {
   "cell_type": "code",
   "execution_count": 3,
   "metadata": {},
   "outputs": [
    {
     "data": {
      "text/plain": [
       "array([ 0.16666667,  0.16666667,  0.16666667,  0.16666667,  0.16666667,\n",
       "        0.16666667])"
      ]
     },
     "execution_count": 3,
     "metadata": {},
     "output_type": "execute_result"
    }
   ],
   "source": [
    "x_pmf = distri.pmf(x) \n",
    "x_pmf"
   ]
  },
  {
   "cell_type": "code",
   "execution_count": 9,
   "metadata": {},
   "outputs": [
    {
     "data": {
      "image/png": "[encoded data removed]",
      "text/plain": [
       "<matplotlib.figure.Figure at 0x2908e1c748>"
      ]
     },
     "metadata": {},
     "output_type": "display_data"
    }
   ],
   "source": [
    "n = 4  # n=número de intentos\n",
    "p = 0.5  #probabilidad del evento \"1\" \n",
    "distri = stats.binom(n, p)  \n",
    "x = np.arange(0, n+1)\n",
    "x_pmf = distri.pmf(x)  # la pdf evaluada para todos los x\n",
    "media, varianza = distri.stats(moments='mv')\n",
    "plt.vlines(x,  0, x_pmf, colors='C0', lw=5,\n",
    "           label='$\\mu$  = {:3.1f}\\n$\\sigma^2$ = {:3.1f}'.format(float(media), float(varianza)))\n",
    "plt.xlabel('x')\n",
    "plt.ylabel('$p(x)$')\n",
    "plt.legend(frameon=True);"
   ]
  },
  {
   "cell_type": "code",
   "execution_count": 13,
   "metadata": {},
   "outputs": [
    {
     "data": {
      "image/png": "[encoded data removed]",
      "text/plain": [
       "<matplotlib.figure.Figure at 0x2908e1c588>"
      ]
     },
     "metadata": {},
     "output_type": "display_data"
    }
   ],
   "source": [
    "distri = stats.poisson(2.8)  # occurrencia media del evento\n",
    "x = np.arange(0, 20)\n",
    "x_pmf = distri.pmf(x)  # la pdf evaluada para todos los x\n",
    "media, varianza = distri.stats(moments='mv')\n",
    "plt.vlines(x,  0, x_pmf, colors='C2', lw=5,\n",
    "           label='$\\mu$  = {:3.1f}\\n$\\sigma^2$ = {:3.1f}'.format(float(media), float(varianza)))\n",
    "plt.xlabel('x')\n",
    "plt.ylabel('$p(x)$')\n",
    "plt.legend(frameon=True);"
   ]
  },
  {
   "cell_type": "code",
   "execution_count": null,
   "metadata": {
    "collapsed": true
   },
   "outputs": [],
   "source": []
  }
 ],
 "metadata": {
  "kernelspec": {
   "display_name": "Python 3",
   "language": "python",
   "name": "python3"
  },
  "language_info": {
   "codemirror_mode": {
    "name": "ipython",
    "version": 3
   },
   "file_extension": ".py",
   "mimetype": "text/x-python",
   "name": "python",
   "nbconvert_exporter": "python",
   "pygments_lexer": "ipython3",
   "version": "3.6.2"
  }
 },
 "nbformat": 4,
 "nbformat_minor": 2
}
