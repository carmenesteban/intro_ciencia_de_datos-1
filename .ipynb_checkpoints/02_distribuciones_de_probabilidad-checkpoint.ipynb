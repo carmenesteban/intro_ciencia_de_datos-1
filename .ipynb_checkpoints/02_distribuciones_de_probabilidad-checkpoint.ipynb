{
 "cells": [
  {
   "cell_type": "code",
   "execution_count": 1,
   "metadata": {
    "collapsed": true
   },
   "outputs": [],
   "source": [
    "%matplotlib inline\n",
    "import numpy as np\n",
    "from scipy import stats\n",
    "import matplotlib.pyplot as plt\n",
    "import seaborn as sns\n",
    "plt.style.use(['seaborn-colorblind', 'seaborn-darkgrid'])"
   ]
  },
  {
   "cell_type": "markdown",
   "metadata": {},
   "source": [
    "## Probabilidades\n",
    "\n",
    "La matemática es la lógica de la certeza mientras que la probabilidad es la lógica de la incerteza, dice Joseph K. Blitzstein condensando el pensamiento de cientos de personas antes que el. Entender como pensar en presencia de incertezas es central en Ciencia de Datos. Esta incerteza tiene diversas fuentes, incluyendo datos incompletos, errores de medición, modelos aproximados, etc.\n",
    "\n",
    "En este capítulo veremos una introducción breve a algunos conceptos centrales en probabilidad que nos permitiran entender mejor los fundamentos de varios métodos y procedimientos que veremos más adelante, para quienes tengan interés en profundizar en el tema recomiendo leer el libro [Introduction to Probability](https://www.crcpress.com/Introduction-to-Probability/Blitzstein-Hwang/p/book/9781466575578) de Joseph K. Blitzstein y Jessica Hwang.\n",
    "\n",
    "En general, manejamos tres conceptos, relacionados entre si, sobre probabilidad:\n",
    "\n",
    "* Decimos que una moneda tiene probabilidad 0.5 (o 50%) de caer cara, por que asumimos que ninguno de los dos eventos tiene preferencia sobre el otro. Es decir pensamos que ambos eventos son equi-probables. Esto se conoce como definición clásica o naive. Es la misma que usamos para decir que la probabilidad de obtener 3 al arrojar un dado (o cualquier número del 1 al 6) es de $\\frac{1}{6}$, o que la probabilidad de tener una hija es de 0.5. Esta definición se lleva a las patadas com preguntas como ¿Cuál es la probabilidad de que exista vida en Marte?, claramente 0.5 es una sobreestimación, ya que el evento _vida_ y el evento _no-vida_ no son igualmente probables.\n",
    "\n",
    "* Otra forma de ver a una probabilidad es como la frecuencia de eventos observados en una muestra. En esta concepción de probabilidad, en vez de asumir que los eventos son igualmente probables, diseñamos un experimento (en el sentido muy amplio de la palabra) y contamos cuantas veces vemos el evento que nos interesa respecto del total de intentos. Esta definición de probabilidad nos permitiría estimar que la probabilidad de obtener 2 al arrojar un dado $n$ veces es de por ejemplo $\\frac{1}{3}$ (y no necesariamente $\\frac{1}{6}$). Esta noción de probabilidad, llamada frecuentista, se suele asociar con la idea de la existencia de un número _correcto_ al que nos aproximamos a medida que aumenta $n$. Por lo tanto, en el límite de $n$ tendiendo a infinito obtenemos la respuesta _correcta_:\n",
    "\n",
    "$$p(x) = \\lim_{n \\rightarrow \\infty} \\frac{n_x}{n}$$\n",
    "\n",
    "\n",
    "La definición frecuentista de probabilidad tiene el inconveniente que no es muy útil para pensar en problemas que ocurren una sola vez. Por ejemplo, ¿Cuál es la probabilidad que mañana llueva? Estrictamente solo hay un mañana y o bien lloverá o bien no. Los frecuentistas suelen evadir este problema recurriendo a experimentos imaginarios. En ese caso podríamos intentar estimar la probabilidad de lluvia para mañana imaginando que hay una cantidad muy grande de _mañanas_ y luego contando en cuantos de esos _mañanas_ llueve y en cuantos no. Esta _ficcion científica_ es perfectamente válida y muy útil.\n",
    "\n",
    "\n",
    "* La tercer forma de pensar una probabilidad se refiere a cuantificar la incertidumbre que tenemos sobre la posibilidad que un evento suceda. Si el evento es imposible entonces la probabilidad de ese evento será exactamente 0, si en cambio el evento sucede siempre entonces la probabilidad de ese evento será de 1. Todos los valores intermedios reflejan grados de certeza/incerteza. Desde este punto de vista es _natural_ preguntarse cual es la probabilidad que la masa de Saturno sea $x$ kg, o hablar sobre la probabilidad de lluvia durante el 25 de Mayo de 1810, o la probabilidad de que mañana amanezca. Esta tercer interpretación del concepto de probabilidad es llamado Bayesiana y se puede pensar como una versión que incluye, como casos especiales, a las definiciones frecuentista y clásica.\n",
    "\n",
    "\n",
    "A pesar de estas diferentes formas de interpretar el concepto de probabilidad la teoría de probabilidades nos ofrece un marco coherente y riguroso (en el sentido matemático) para trabajar con probabilidades."
   ]
  },
  {
   "cell_type": "markdown",
   "metadata": {},
   "source": [
    "## Probabilidades y conjuntos\n",
    "\n",
    "El marco matemático para trabajar con las probabilidades se construye alrededor de los conjuntos (como los que vimos anteriormente). \n",
    "\n",
    "El espacio muestreal $S$ de un experimento es el conjunto de todos los posibles resultados de un experimento. Un evento $A$ es un subconjunto de $S$, es decir $A \\subseteq S$. Decimos que $A$ ha ocurrido si el resultado del experimento es $A$. Por ejemplo, dado:\n",
    "\n",
    "$$S = \\{1, 2, 3, 4, 5, 6\\}$$\n",
    "\n",
    "Podemos definir al evento $A$ como:\n",
    "\n",
    "$$A = \\{2\\}$$\n",
    "\n",
    "Entonces podemos decir que $p(A)$ nos indica la factibilidad de que el evento $A$ ocurra. La cual NO es necesarimente $\\frac{1}{6}$. Es importante notar además que bajo otras circunstancias el evento $A$ podría ser otro subconjunto, por ejemplo  $A = \\{1,3,5\\}$, o tal vez $A = \\{4,5,6\\}$, todo dependerá del problema que tengamos interés en resolver.\n",
    "\n",
    "Entonces, tenemos que los eventos son subconjuntos de un espacio muestreal definido y las probabilidades son números  asociados a la posibilidad que esos eventos ocurran, ya sea que esa \"posibilidad\" la definamos a partir de asumir todos los eventos equiprobables, o como una fracción de eventos favorables respecto del total de eventos o como el grado de certeza de obtener tal evento."
   ]
  },
  {
   "cell_type": "markdown",
   "metadata": {},
   "source": [
    "## Axiomas de Kolmogorov\n",
    "\n",
    "Los axiomas de Kolmogorov permiten formalizar las nociones de probabilidad, una alternativa a estos axiomas es provista por Cox, y es preferida entre algunos Bayesianos. Nosotros veremos los axiomas de Cox por ser los más comunmente empleados.\n",
    "\n",
    "1. La probabilidad de un evento es un número real mayor o igual a cero\n",
    "    $$P(A)\\in \\mathbb {R} ,P(A)\\geq 0\\qquad \\forall A\\in S$$\n",
    "\n",
    "2. La probabilidad que algo ocurra es 1 y la probabilidad que algo fuera de $S$ ocurra es nula.\n",
    "    $$P(S) = 1$$\n",
    "\n",
    "3. Si los eventos $A_1, A_2, ..., A_j$ son mutuamente excluyentes entonces\n",
    "\n",
    "$$P\\left(\\bigcup _{i=1}^{\\infty }A_{i}\\right)=\\sum _{i=1}^{\\infty }P(A_{i})$$\n",
    "\n",
    "Si obtengo un 1 en un dado no puedo obtener un 6 (ni ningún otro número), por lo tanto la probabilidad de obtener un 1 o un 3, o 6, es $P(1) + P(2) + P(6)$\n",
    "\n",
    "De estos tres axiomas se desprende que las probabilidades están restringidas al intervalo[0, 1], es decir números que van entre 0 y 1 (incluyendo ambos extremos). "
   ]
  },
  {
   "cell_type": "markdown",
   "metadata": {},
   "source": [
    "## Probabilidad condicional\n",
    "\n",
    "Dado dos eventos $A$ y $B$ siendo $P(B) > 0$, la probabilidad $A$ dado $B$, que se simboliza como P(A | B) Es definida como:\n",
    "\n",
    "$$P(A | B) = \\frac{P(A, B)}{P(B)}$$ \n",
    "\n",
    "\n",
    "$P(A, B)$ es la probabilidad que ocurran los eventos $A$ y $B$, tambien se suele escribir como $P(A \\cap B)$, la probabilidad de la intersección de los eventos $A$ y $B$.\n",
    "\n",
    "$P(A|B)$ es lo que se conoce como probabilidad condicional, y es la probabilidad de que ocurra A condicionada por el hecho que sabemos que B ha ocurrido. Por ejemplo la probabilidad que una vereda esté mojada es diferente de la probabilidad que la misma vereda esté mojada dado que está lloviendo. \n",
    "\n",
    "Una probabilidad condicional se puede vizualizar como la reducción del espacio muestreal. Para ver esto de forma más clara vamos a usar una figura adatapda del libro [Introduction to Probability](https://www.crcpress.com/Introduction-to-Probability/Blitzstein-Hwang/p/book/9781466575578) de Joseph K. Blitzstein & Jessica Hwang. En ella se puede ver como pasamos de tener los eventos $A$ y $B$ en el espacio muestreal $S$, en el primer cuadro a tener $P(A \\mid B)$ en el último cuadro donde el espacio muestreal se redujo de $S$ a $B$. \n",
    "\n",
    "<img src='imagenes/cond.png' width=600 >\n",
    "\n",
    "El concepto de probabilidad condicionales está en el corazón de la estadística y es central para pensar en como debemos actualizar el conocimiento que tenemos de un evento a la luz de nuevos datos, veremos más sobre este en el curso \"Análisis Bayesiano de datos\" y en \"Machine Learning/mineria de datos\". Por ahora dejamos este tema con la siguiente aclaración. Todas las probabilidades son condicionales (respecto de algún supuesto o modelo) aún cuando no lo expresemos explícitamente, no existen probabilidades sin contexto."
   ]
  },
  {
   "cell_type": "markdown",
   "metadata": {},
   "source": [
    "### Variables aleatorias discretas\n",
    "\n",
    "Dado un experimento (en sentido amplio) cuyo espacio muestreal es  $S$, una variable aleatoria $X$ (o rv o también RV del ingles random variable) es una función que mapea los resultados $s \\in S$ a números en $\\mathbb{R}$. Es común usar letras del alfabeto latino en mayusculas.\n",
    "\n",
    "Entonces una variable aleatoria $X$ asigna un número $X(s)$ a cada posible resultado $s$ de un experimento. Es importante notar que el mapeo es determinista, la aleatoriedad está dada por el experimento, es decir por no poder definir de forma precisa cual será el resultado. Las probabilidades de cada evento $s$ vienen dado por una función de probabilidad.\n",
    "\n",
    "Supongamos que la variable aleatoria $X$ es \"cantidad de caras al arrojar dos monedas\". El espacio muestral es $S=\\{HH, HT, TH, TT\\}$. Según como hemos definido esta variable es posible obtener 3 eventos, $\\{HH, (HT,TH), TT\\}$ los cuales tienen asociados 3 números:\n",
    "\n",
    "$$X(HH) = 2, X(HT) = X(TH) = 1, X(TT) = 0$$\n",
    "\n",
    "Como se puede ver el \"mapeo\" es determinista, siempre a X(HH) le corresponde el número 2. ¿Cual es la razón o necesidad de este mapeo? Simplemente que es más facil trabajar con números que con letras como $HH$ o expresiones/conceptos complejos como \"cantidad de caras al arrojar dos monedas\" o \"calorías per cápita en adultos de la ciudad de Resistencia\", \"agujeros negros binarios colapsando\". En resumen poder hacer este mapeo es un _truco_ para poner en términos matemáticos relaciones entre objetos complejos (que en general no _son_ o no los pensamos como números). "
   ]
  },
  {
   "cell_type": "markdown",
   "metadata": {},
   "source": [
    "### Distribuciones de probabilidad\n",
    "\n",
    "OK, todo bien hasta ahora pero en general no es este _mapeo determinista_ lo que nos interesa al trabajar con variables aleatorias. Lo que nos interesa es poder lidear con la aleatoriedad de los resultados, es decir antes de arrojar las dos monedas no sabemos cual será el resultado, pero una vez arrojadas si. Lo interesante está en poder hacer algo _en el medio_ es decir intentar anticipar o predecir el resultado o intentar describir las distintas posibilidades. Lo mejor que podemos hacer es calcular probabilidades de los eventos. Por ejemplo la probabilidad de obtener 2 caras, esto se puede escribir como $P(X=2)$ o de forma abreviada $P(2)$. Al escribir $P(X=x)$, estamos indicando que $X=x$ es un evento que consiste en todos los resultados $s$ para los cuales X asigna el número $x$. Es decir el evento $\\{X=x\\}$ lo estamos definiendo como $\\{s \\in S : X(s) = x\\}$, es común omitir todas estas aclaraciones y esperar que se _entienda_ a partir del contexto. Bien, retomando podemos decir entonces que la probabilidad $P(2) = 0.25$ (asumiendo igual probabilidad de cara y ceca para cada moneda). Es más podríamos construir una tabla con la probabilidad de cada evento.\n",
    "\n",
    "$$P(2) = 0.25$$\n",
    "$$P(1) = 0.50$$\n",
    "$$P(0) = 0.25$$\n",
    "\n",
    "\n",
    "En la práctica, en vez de escribir de forma explicita la probabilidad de cada uno de los posibles eventos podemos intentar definir una distribución de probabilidad. Esto es una función que especifica la probabilidad de cada uno de los posibles eventos asociados con una variable aleatoria. Cuando la variable aleatoria es discreta esta función se llama función de masa de probabilidad (pmf en inglés). Para cada evento $x$, esta función _devuelve_ como resultado $p(x) = P(X=x)$. Es decir, los valores posibles que puede _devolver_ una $pmf$ (su dominio) son probabilidades y por lo tanto están restringidos al intervalo $[0,1]$. Además si $x$ no está en el soporte de $X$ entonces $p(x)=0$. Esto es facil de ver con el ejemplo anterior ¿Cúal es la probabilidad de obtener 4 caras al arrojar dos monedas? La respuesta es 0 simplemente por que \"4 caras\" no es un valor permitido.\n",
    "\n",
    "Dijimos que a $X$ se la llama variable aleatoria, notese que _aleatoria_ no quiere decir que $X$ pueda tomar cualquier valor, de hecho solo puede tomar los valores definidos por su distribución de probabilidad. \n",
    "\n",
    "En principio nada impide que uno defina su propia distribucion de probabilidad, pero existen algunas tan comunmente usadas que tienen nombre \"propio\", veamos algunas de ellas:"
   ]
  },
  {
   "cell_type": "markdown",
   "metadata": {},
   "source": [
    "#### Distribución uniforme discreta\n",
    "\n",
    "Es una distribución que asigna igual probabilidad a un conjunto finitos de valores, su pmf es:\n",
    "\n",
    "$$p(k | a, b)={\\frac {1}{b - a}}$$\n",
    "\n",
    "Para valores de $k = a, \\ldots b -1$\n",
    "\n",
    "Podemos usar esta distribución para modelar, por ejemplo un dado."
   ]
  },
  {
   "cell_type": "code",
   "execution_count": 2,
   "metadata": {},
   "outputs": [
    {
     "data": {
      "image/png": "[encoded data removed]",
      "text/plain": [
       "<matplotlib.figure.Figure at 0xfc4774bdd8>"
      ]
     },
     "metadata": {},
     "output_type": "display_data"
    }
   ],
   "source": [
    "distri = stats.randint(1, 7)  # límite inferior, límite superior + 1\n",
    "x = np.arange(1, 7)\n",
    "x_pmf = distri.pmf(x)  # la pdf evaluada para todos los x_values\n",
    "media, varianza = distri.stats(moments='mv')\n",
    "plt.vlines(x,  0, x_pmf, colors='C0', lw=5,\n",
    "           label='$\\mu$  = {:3.1f}\\n$\\sigma^2$ = {:3.1f}'.format(float(media), float(varianza)))\n",
    "plt.xlabel('x')\n",
    "plt.ylabel('$p(x)$')\n",
    "plt.legend(frameon=True);"
   ]
  },
  {
   "cell_type": "markdown",
   "metadata": {},
   "source": [
    "#### Distribución binomial\n",
    "\n",
    "Es la [distribución](https://en.wikipedia.org/wiki/Binomial_distribution) de probabilidad discreta que cuenta el número de éxitos en una secuencia de $n$ ensayos de Bernoulli (experimentos si/no) independientes entre sí, con una probabilidad fija $p$ de ocurrencia del éxito entre los ensayos.\n",
    "Cuando $n=1$ esta distribución se reduce a la distribución de Bernoulli.\n",
    "\n",
    "$$p(x|n,p) = \\frac{n!}{x!(n-x)!}p^x(1-p)^{n-x}$$\n",
    "\n",
    "El término $p^x(1-p)^{n-x}$ indica la probabilidad de obtener $x$ éxitos en $n$ intentos. Este término solo tiene en cuenta el número total de éxitos obtenidos pero no la secuencia en la que aparecieron. El primer término conocido como **coeficiente binomial** calcula todas las posibles combinaciones de $n$ en $x$, es decir el número de subconjuntos de $x$ elementos escogidos de un conjunto con $n$ elementos."
   ]
  },
  {
   "cell_type": "code",
   "execution_count": 3,
   "metadata": {},
   "outputs": [
    {
     "data": {
      "image/png": "[encoded data removed]",
      "text/plain": [
       "<matplotlib.figure.Figure at 0xfc47a74a20>"
      ]
     },
     "metadata": {},
     "output_type": "display_data"
    }
   ],
   "source": [
    "n = 4  # n=número de intentos\n",
    "p = 0.5  #probabilidad del evento \"1\" \n",
    "distri = stats.binom(n, p)  \n",
    "x = np.arange(0, n+1)\n",
    "x_pmf = distri.pmf(x)  # la pdf evaluada para todos los x\n",
    "media, varianza = distri.stats(moments='mv')\n",
    "plt.vlines(x,  0, x_pmf, colors='C0', lw=5,\n",
    "           label='$\\mu$  = {:3.1f}\\n$\\sigma^2$ = {:3.1f}'.format(float(media), float(varianza)))\n",
    "plt.xlabel('x')\n",
    "plt.ylabel('$p(x)$')\n",
    "plt.legend(frameon=True);"
   ]
  },
  {
   "cell_type": "markdown",
   "metadata": {},
   "source": [
    "#### Distribución de Poisson"
   ]
  },
  {
   "cell_type": "markdown",
   "metadata": {},
   "source": [
    "Es una [distribución](https://en.wikipedia.org/wiki/Poisson_distribution) de probabilidad discreta que expresa la probabilidad que $x$ eventos sucedan en un intervalo fijo de tiempo (o espacio o volumen) cuando estos eventos suceden con una taza promedio $\\mu$ y de forma independiente entre si. Se la utiliza para modelar eventos con probabilidades pequeñas (sucesos _raros_), a medida que $\\mu$ aumenta la distribución de asemeja cada vez más a una distribución Gaussiana (aunque sigue siendo discreta)\n",
    "\n",
    "$$\n",
    "p(x|\\mu) = \\frac{\\mu^{x} e^{-\\mu}}{x!}\n",
    "$$\n",
    "\n",
    "Tando la media comoa la varianza de esta distribución está dada por $\\mu$. A medida que $\\mu$ aumenta la distribución de Poisson se aproxima a una distribución Gaussiana."
   ]
  },
  {
   "cell_type": "code",
   "execution_count": null,
   "metadata": {},
   "outputs": [
    {
     "data": {
      "image/png": "[encoded data removed]",
      "text/plain": [
       "<matplotlib.figure.Figure at 0xfc478bd940>"
      ]
     },
     "metadata": {},
     "output_type": "display_data"
    }
   ],
   "source": [
    "distri = stats.poisson(2.3)  # occurrencia media del evento\n",
    "x = np.arange(0, 10)\n",
    "x_pmf = distri.pmf(x)  # la pdf evaluada para todos los x\n",
    "media, varianza = distri.stats(moments='mv')\n",
    "plt.vlines(x,  0, x_pmf, colors='C0', lw=5,\n",
    "           label='$\\mu$  = {:3.1f}\\n$\\sigma^2$ = {:3.1f}'.format(float(media), float(varianza)))\n",
    "plt.xlabel('x')\n",
    "plt.ylabel('$p(x)$')\n",
    "plt.legend(frameon=True);"
   ]
  },
  {
   "cell_type": "markdown",
   "metadata": {},
   "source": [
    "### Variables aleatorias y distribuciones de probabilidad continuas\n",
    "\n",
    "El otro tipo comunmente usado de variables aleatorias son las llamadas continuas, ya que toman valores en $\\mathbb{R}$.\n",
    "\n",
    "La diferencias más importante entre RVs discretas y continuas es que para las continuas $P(X=x) = 0$, es decir !La probabilidad de cualquier valor es exactamente 0! Esto se debe básicamente a que la variable puede tomar infinitos valores. \n",
    "\n",
    "Si prestaron atención a las gráficas anteriores se habrán dado cuenta que es la altura de las lineas lo que define la probabilidad de cada evento. Si sumamos las alturas siempre obtenemos 1, es decir la suma total de las probabilidades. En una distribución continua no tenemos _lineas_ si no que tenemos una curva continua, la altura de esa curva es la _densidad de probabilidad_. Si queremos averiguar cuanto más probable es la variable $x_1 respecto de x_2$ basta calcular\n",
    "\n",
    "$$\\frac{pdf(x_1)}{pdf(x_2)}$$\n",
    "\n",
    "Donde $pdf$ es la función de densidad de probabilidad (pdf por su sigla en inglés).\n",
    "\n",
    "Para obtener una probabilidad a partir de una pdf debemos integrar en un intervalo dado, ya que es el área bajo la curva y no la altura lo que nos da la probabilidad. \n",
    "\n",
    "$$P(a \\lt X \\lt b) =  \\int_a^b pdf(x) dx$$\n",
    "\n",
    "A continuación veremos varias distribuciones. La curva naranja representa la pdf, mientras que el histograma (barras azules) representan muestras tomadas a partir de cada distribución. "
   ]
  },
  {
   "cell_type": "markdown",
   "metadata": {},
   "source": [
    "#### Distribución uniforme\n",
    "\n",
    "Aún siendo simple, la distribución [uniforme](https://en.wikipedia.org/wiki/Uniform_distribution_%28continuous%29) es muy usada en estadística, por ej para representar nuestra ignorancia sobre el valor que pueda tomar un parámetro. La distribución uniforme tiene entropía cero (todos los estados son igualmente probables).\n",
    "\n",
    "$$\n",
    "p(x|a,b)=\\begin{cases} \\frac{1}{b-a} & para\\ a \\le x \\le b \\\\ 0 &  para\\ x<a\\ o\\ x>b \\end{cases}\n",
    "$$"
   ]
  },
  {
   "cell_type": "code",
   "execution_count": null,
   "metadata": {},
   "outputs": [],
   "source": [
    "distri = stats.uniform(0, 1)  # distribución uniforme entre a=0 y b=1\n",
    "x = np.linspace(-0.5, 1.5, 100)\n",
    "x_rvs = distri.rvs(500)  # muestrear 500 valores de la distribución\n",
    "x_pdf = distri.pdf(x)  # la pdf evaluada para todos los x\n",
    "plt.hist(x_rvs, normed=True)\n",
    "media, varianza = distri.stats(moments='mv')\n",
    "plt.plot (x, x_pdf, color='C2', lw=5,\n",
    "           label='$\\mu$  = {:3.1f}\\n$\\sigma$ = {:3.1f}'.format(float(media),\n",
    "                                                               float(varianza)**0.5))\n",
    "plt.xlabel('x')\n",
    "plt.ylabel('$p(x)$')\n",
    "plt.legend(frameon=True);"
   ]
  },
  {
   "cell_type": "markdown",
   "metadata": {},
   "source": [
    "#### Distribución Gaussiana (o normal)\n",
    "\n",
    "Es quizá la [distribución](https://en.wikipedia.org/wiki/Normal_distribution) más conocida. Por un lado por que muchos fenómenos pueden ser descriptos (aproximadamente) usando esta distribución. Por otro lado por que posee ciertas propiedades matemáticas que facilitan trabajar con ella de forma analítica. Es por ello que muchos de los resultados de la estadística frecuentista se basan en asumir una distribución Gaussiana. Por ejemplo el método de los mínimos cuadrados para ajustar modelos lineales no es válido cuando los errores medidos se desvían de una distribución normal.\n",
    "\n",
    "La distribución Gaussiana se define usando dos parámetros, la media $\\mu$ y la desviación estándar $\\sigma$. Una distribución Gaussiana con $\\mu = 0$ y $\\sigma = 1$ es conocida como la _distribución Gaussiana estándar_.\n",
    "\n",
    "$$\n",
    "p(x|\\mu,\\sigma) = \\frac{1}{\\sigma \\sqrt{ 2 \\pi}} e^{ - \\frac{ (x - \\mu)^2 } {2 \\sigma^2}}\n",
    "$$"
   ]
  },
  {
   "cell_type": "code",
   "execution_count": null,
   "metadata": {},
   "outputs": [],
   "source": [
    "distri = stats.norm(loc=0, scale=1)  # media cero y desviación standard 1\n",
    "x = np.linspace(-4, 4, 100)\n",
    "x_rvs = distri.rvs(500)  # muestrear 500 valores de la distribución\n",
    "x_pdf = distri.pdf(x)  # la pdf evaluada para todos los x\n",
    "plt.hist(x_rvs, normed=True)\n",
    "media, varianza = distri.stats(moments='mv')\n",
    "plt.plot (x, x_pdf, color='C2', lw=5,\n",
    "           label='$\\mu$  = {:3.1f}\\n$\\sigma$ = {:3.1f}'.format(float(media),\n",
    "                                                               float(varianza)**0.5))\n",
    "plt.xlabel('x')\n",
    "plt.ylabel('$p(x)$')\n",
    "plt.legend(frameon=True);"
   ]
  },
  {
   "cell_type": "markdown",
   "metadata": {},
   "source": [
    "#### Distribución t de Student\n",
    "\n",
    "Históricamente esta [distribución](http://es.wikipedia.org/wiki/Distribuci%C3%B3n_t_de_Student) surgió para estimar la media de una población normalmente distribuida cuando el tamaño de la muestra es pequeño. En estadística Bayesiana su uso más frecuente es el de generar modelos robustos a datos aberrantes, como veremos mas adelante. \n",
    "\n",
    "\n",
    "$$p(x\\mid \\nu,\\mu,\\sigma) = \\frac{\\Gamma(\\frac{\\nu + 1}{2})}{\\Gamma(\\frac{\\nu}{2})\\sqrt{\\pi\\nu}\\sigma} \\left(1+\\frac{1}{\\nu}\\left(\\frac{x-\\mu}{\\sigma}\\right)^2\\right)^{-\\frac{\\nu+1}{2}}\n",
    "$$\n",
    "\n",
    "donde $\\Gamma$ es la función [gamma](https://en.wikipedia.org/wiki/Gamma_function) y donde $\\nu$ es un parámetro llamado _grados de libertad_ (nombre que tiene más sentido en un contexto frecuentista que en uno Bayesiano), como veremos a este parámetro le podríamos llamar _grado de normalidad_, ya que a medida que aumenta la distribución se aproxima a una Gaussiana. En el caso extremo de $\\nu = \\inf$ la distribución es exactamente igual a una Gaussiana.\n",
    "\n",
    "En el otro _extremo_, cuando $\\nu=1$, (aunque en realidad $\\nu$ puede tomar valores por debajo de 1) estamos frente a una distribución de [Cauchy](https://en.wikipedia.org/wiki/Cauchy_distribution). Es similar a una Gaussiana pero las colas decrecen muy lentamente, eso provoca que en teoría esta distribución no poseen una media o varianza definidas. Es decir, es posible calcular a partir de un conjunto de datos una media, pero si los datos provienen de una distribución de Cauchy, la dispersión alrededor de la media será alta y esta dispersión no disminuirá a medida que aumente el tamaño de la muestra. La razón de este comportamiento extraño es que en distribuciones como la Cauchy están dominadas por lo que sucede en las colas de la distribución, contrario a lo que sucede por ejemplo con la distribución Gaussiana.\n",
    "\n",
    "Para esta distribución $\\sigma$ no es la desviación estándar, que como ya se dijo podría estar indefinida, $\\sigma$ es la _escala_. A medida que $\\nu$ aumenta la _escala_ converge a la desviación estándar de una distribución Gaussiana."
   ]
  },
  {
   "cell_type": "code",
   "execution_count": null,
   "metadata": {
    "scrolled": true
   },
   "outputs": [],
   "source": [
    "distri = stats.t(loc=0, scale=2, df=4) # media 0, escala 2, grados de libertad 4\n",
    "x = np.linspace(-10, 10, 100)\n",
    "x_rvs = distri.rvs(500)  # muestrear 500 valores de la distribución\n",
    "x_pdf = distri.pdf(x)  # la pdf evaluada para todos los x\n",
    "plt.hist(x_rvs, normed=True)\n",
    "media, varianza = distri.stats(moments='mv')\n",
    "plt.plot (x, x_pdf, color='C2', lw=5,\n",
    "           label='$\\mu$  = {:3.1f}\\n$\\sigma$ = {:3.1f}'.format(float(media),\n",
    "                                                               float(varianza)**0.5))\n",
    "plt.xlabel('x')\n",
    "plt.ylabel('$p(x)$')\n",
    "plt.legend(frameon=True);"
   ]
  },
  {
   "cell_type": "markdown",
   "metadata": {},
   "source": [
    "#### Distribución exponencial\n",
    "\n",
    "La distribución [exponencial](https://en.wikipedia.org/wiki/Exponential_distribution) se define solo para $x > 0$. Esta distribución se suele usar para describir el tiempo que transcurre entre dos eventos que ocurren de forma continua e independiente a una taza fija. El número de tales eventos para un tiempo fijo lo da la distribución de Poisson (ver más adelante). Nosotros también la usaremos para fijar los _a prioris_ de $nu$ (los grados de libertad de distribución t de Student).\n",
    "\n",
    "$$\n",
    "p(x|\\lambda) = \\lambda e^{-\\lambda x}\n",
    "$$\n",
    "\n",
    "La media y la desviación estándar de esta distribución están dadas por $\\frac{1}{\\lambda}$ \n",
    "\n",
    "Scipy usa una parametrización  diferente donde la escala es igual a $\\frac{1}{\\lambda}$"
   ]
  },
  {
   "cell_type": "code",
   "execution_count": null,
   "metadata": {
    "scrolled": true
   },
   "outputs": [],
   "source": [
    "distri = stats.expon(scale=3)  # escala 3, lambda = 1/3\n",
    "x = np.linspace(0, 25, 100)\n",
    "x_rvs = distri.rvs(500)  # muestrear 500 valores de la distribución\n",
    "x_pdf = distri.pdf(x)  # la pdf evaluada para todos los x\n",
    "plt.hist(x_rvs, normed=True)\n",
    "media, varianza = distri.stats(moments='mv')\n",
    "plt.plot (x, x_pdf, color='C2', lw=5,\n",
    "           label='$\\mu$  = {:3.1f}\\n$\\sigma$ = {:3.1f}'.format(float(media),\n",
    "                                                                 float(varianza)**0.5))\n",
    "plt.xlabel('x')\n",
    "plt.ylabel('$p(x)$')\n",
    "plt.legend(frameon=True);"
   ]
  },
  {
   "cell_type": "markdown",
   "metadata": {},
   "source": [
    "#### Distribución de Laplace\n",
    "\n",
    "También llamada distribución [doble exponencial](https://en.wikipedia.org/wiki/Laplace_distribution), ya que puede pensarse como una distribucion exponencial \"más su imagen especular\". Esta distribución surge de medir la diferencia entre dos variables exponenciales (indeticamente distribuidas). \n",
    "\n",
    "$$\n",
    "p(x|\\lambda) = \\lambda e^{-\\lambda x}\n",
    "$$\n",
    "\n",
    "$$p(x | \\mu, b) = \\frac{1}{2b} \\exp \\left\\{ - \\frac{|x - \\mu|}{b} \\right\\}$$\n",
    "\n",
    "La media está definida por $\\mu$ y la desviación estandard de esta distribución están dadas por $\\sqrt{2b^2} = \\sqrt{2} b$"
   ]
  },
  {
   "cell_type": "code",
   "execution_count": null,
   "metadata": {
    "scrolled": true
   },
   "outputs": [],
   "source": [
    "distri = stats.laplace(0, 0.7)  # escala 3, lambda = 1/3\n",
    "x = np.linspace(-5, 5, 100)\n",
    "x_rvs = distri.rvs(500)  # muestrear 500 valores de la distribución\n",
    "x_pdf = distri.pdf(x)  # la pdf evaluada para todos los x\n",
    "plt.hist(x_rvs, normed=True)\n",
    "media, varianza = distri.stats(moments='mv')\n",
    "plt.plot (x, x_pdf, color='C2', lw=5,\n",
    "           label='$\\mu$  = {:3.1f}\\n$\\sigma$ = {:3.1f}'.format(float(media),\n",
    "                                                               float(varianza)**0.5))\n",
    "plt.xlabel('x')\n",
    "plt.ylabel('$p(x)$')\n",
    "plt.legend(frameon=True);"
   ]
  },
  {
   "cell_type": "markdown",
   "metadata": {},
   "source": [
    "#### Distribución beta\n",
    "\n",
    "Es una [distribución](https://en.wikipedia.org/wiki/Beta_distribution) definida en el intervalo [0, 1]. Se usa para modelar el comportamiento de variables aleatorias limitadas a un intervalo finito. Es útil para modelar proporciones o porcentajes. \n",
    "\n",
    "$$\n",
    "p(x|\\alpha, \\beta)= \\frac{\\Gamma(\\alpha+\\beta)}{\\Gamma(\\alpha)\\Gamma(\\beta)}\\, x^{\\alpha-1}(1-x)^{\\beta-1}\n",
    "$$\n",
    "\n",
    "El primer término es simplemente una constante de normalización que asegura que la integral de la $pdf$ de 1. $\\Gamma$ es la función [gamma](https://en.wikipedia.org/wiki/Gamma_function). Cuando $\\alpha=1$ y $\\beta=1$ la distribución beta se reduce a la distribución uniforme.\n",
    "\n",
    "Si queremos expresar la distribución beta en función de la media y la dispersión alrededor de la media podemos hacerlo de la siguiente forma.\n",
    "\n",
    "$$\\alpha = \\mu \\kappa$$\n",
    "$$\\beta = (1 − \\mu) \\kappa$$\n",
    "\n",
    "Siendo $\\mu$ la media y $\\kappa$ una parámetro llamado concentración a media que $\\kappa$ aumenta la dispersión disminuye. Notese, además que $\\kappa = \\alpha + \\beta$."
   ]
  },
  {
   "cell_type": "code",
   "execution_count": null,
   "metadata": {},
   "outputs": [],
   "source": [
    "distri = stats.beta(5, 2)  # alfa=5, beta=2\n",
    "x = np.linspace(0, 1, 100)\n",
    "x_rvs = distri.rvs(500)  # muestrear 500 valores de la distribución\n",
    "x_pdf = distri.pdf(x)  # la pdf evaluada para todos los x\n",
    "plt.hist(x_rvs, normed=True)\n",
    "media, varianza = distri.stats(moments='mv')\n",
    "plt.plot (x, x_pdf, color='C2', lw=5,\n",
    "           label='$\\mu$  = {:3.1f}\\n$\\sigma$ = {:3.1f}'.format(float(media), \n",
    "                                                               float(varianza)**0.5))\n",
    "plt.xlabel('x')\n",
    "plt.ylabel('$p(x)$')\n",
    "plt.legend(frameon=True);"
   ]
  },
  {
   "cell_type": "markdown",
   "metadata": {},
   "source": [
    "#### Distribución Gamma\n",
    "\n",
    "Scipy parametriza a la distribución [gamma](https://en.wikipedia.org/wiki/Gamma_distribution) usando un parámetro $\\alpha$ y uno $\\theta$, usando estos parámetros la $pdf$ es:\n",
    "\n",
    "$$\n",
    "p(x \\mid \\alpha, \\theta) = \\frac{1}{\\Gamma(\\alpha) \\theta^\\alpha} x^{\\alpha \\,-\\, 1} e^{-\\frac{x}{\\theta}}\n",
    "$$\n",
    "\n",
    "Una parametrización más común en estadística Bayesiana usa los parámetros $\\alpha$ y  $\\beta$, siendo $\\beta = \\frac{1}{\\theta}$. Esta parametrización es usada por ejemplo por PyMC3. En este caso la pdf queda como:\n",
    "\n",
    "$$\n",
    "p(x \\mid \\alpha, \\beta) = \\frac{\\beta^{\\alpha}x^{\\alpha-1}e^{-\\beta x}}{\\Gamma(\\alpha)}\n",
    "$$\n",
    "\n",
    "Esta distribución la usaremos principalmente para fijar _a prioris_ para las desviaciones standard (o en general escalas) de otras distribuciones. En muchos casos puede resultar mas útil o intuitivo expresar una distribución gama en función de la media y desviación estandard, siguiendo las siguientes relaciones.\n",
    "\n",
    "$\\alpha = \\frac{\\mu^2}{\\sigma^2}$;\n",
    "$\\beta = \\frac{\\mu}{\\sigma^2}$;\n",
    "$\\theta = \\frac{\\sigma^2}{\\mu}$\n",
    "\n",
    "Como veremos, PyMC3 permite expresar la distribución gama directamente usando la media y desviación estandard, sin necesidad de tener que convertir parámetros usando las relaciones anteriores.\n",
    "\n",
    "La distribución gamma se reduce a la exponencial cuando $\\alpha=1$."
   ]
  },
  {
   "cell_type": "code",
   "execution_count": null,
   "metadata": {
    "scrolled": false
   },
   "outputs": [],
   "source": [
    "distri = stats.gamma(a=3, scale=0.5)  # alfa 3, theta 0.5\n",
    "x = np.linspace(0, 8, 100)\n",
    "x_rvs = distri.rvs(500)  # muestrear 500 valores de la distribución\n",
    "x_pdf = distri.pdf(x)  # la pdf evaluada para todos los x\n",
    "plt.hist(x_rvs, normed=True)\n",
    "media, varianza = distri.stats(moments='mv')\n",
    "plt.plot (x, x_pdf, color='C2', lw=5,\n",
    "           label='$\\mu$  = {:3.1f}\\n$\\sigma$ = {:3.1f}'.format(float(media), \n",
    "                                                               float(varianza)**0.5))\n",
    "plt.xlabel('x')\n",
    "plt.ylabel('$p(x)$')\n",
    "plt.legend(frameon=True);"
   ]
  },
  {
   "cell_type": "markdown",
   "metadata": {},
   "source": [
    "#### Distribución acumulada\n",
    "\n",
    "La pdf (o la pmf) son formas comunes de representar y trabajar con variables aleatorias, pero no son las únicas formas posibles. Existen otras representaciones equivalentes. Por ejemplo la función de distribución acumulada (CDF en inglés). Al integrar una pdf se obtiene la correspondiente cdf, y al derivar la cdf se obtiene la pdf.\n",
    "\n",
    "Figura relaciones entre pmf, cdf, pdf (y discretas continuas)\n",
    "\n",
    "\n",
    "La integral de la $pdf$ es llamada función de distribución acumulada ($cdf$):\n",
    "\n",
    "\\begin{equation}\n",
    "cdf(x) = \\int_{-\\infty}^{x} pdf(x) d(x)\n",
    "\\end{equation}\n",
    "\n",
    "En algunas situaciones se prefiere hablar de la función de supervivencia:\n",
    "\n",
    "\\begin{equation}\n",
    "S(x) = 1 - cdf \n",
    "\\end{equation}"
   ]
  },
  {
   "cell_type": "code",
   "execution_count": null,
   "metadata": {},
   "outputs": [],
   "source": [
    "_, ax = plt.subplots(1,2, figsize=(10, 4))\n",
    "x_values = np.linspace(-4, 4, 200)\n",
    "values = [(0, .2), (0, 1), (0, 2), (-2, .5)]\n",
    "color = ['C0', 'C1', 'C2', 'C3']\n",
    "for val, c in zip(values, color):\n",
    "    gauss = stats.norm(*val).pdf(x_values)\n",
    "    ax[0].plot(x_values, gauss, lw=3, color=c,\n",
    "             label='$\\mu$={}\\n$\\sigma$={}'.format(*val))\n",
    "ax[0].set_xlabel('$x$')\n",
    "ax[0].set_ylabel('$pdf$')\n",
    "ax[0].legend();\n",
    "\n",
    "for val, c in zip(values, color):\n",
    "    gauss = stats.norm(*val).cdf(x_values)\n",
    "    ax[1].plot(x_values, gauss, lw=3, color=c,\n",
    "               label='$\\mu$={}\\n$\\sigma$={}'.format(*val))\n",
    "ax[1].set_xlabel('$x$')\n",
    "ax[1].set_ylabel('$cdf$')\n",
    "ax[1].legend();"
   ]
  },
  {
   "cell_type": "markdown",
   "metadata": {},
   "source": [
    "## Distribuciones empíricas versus teóricas\n",
    "\n",
    "Un método gráfico para comparar si un conjunto de datos se ajusta a una distribución teórica es comparar los valores esperados de la distribución teórica en el eje $x$ y en el eje $y$ los valores de los datos ordenados de menor a mayor. Si la distribución empírica fuese exactamente igual a la teórica los puntos caerían sobre la linea recta a $45^{\\circ}$, es decir la linea donde $y = x$."
   ]
  },
  {
   "cell_type": "code",
   "execution_count": null,
   "metadata": {},
   "outputs": [],
   "source": [
    "muestra = np.random.normal(0, 1, 100)\n",
    "dist = stats.norm(0, 1), stats.laplace(scale=0.7)\n",
    "x = np.linspace(-4, 4, 100)\n",
    "dist_pdf = dist[0].pdf(x), dist[1].pdf(x)\n",
    "\n",
    "\n",
    "_, ax = plt.subplots(2, 2, figsize=(8, 8))\n",
    "for i in range(2):\n",
    "    osm, osr = stats.probplot(muestra, fit=False, dist=dist[i])\n",
    "    ax[0,i].plot(osm, osr, 'o')\n",
    "    ax[0,i].plot(osm, osm)\n",
    "    ax[0,i].set_xlabel('Valores esperados')\n",
    "    ax[0,i].set_ylabel('Valores observados')\n",
    "    ax[1, i].hist(muestra, normed=True)\n",
    "    ax[1, i].plot(x, dist_pdf[i])\n",
    "    ax[1, i].set_ylim(0, np.max(dist_pdf) * 1.1)"
   ]
  },
  {
   "cell_type": "markdown",
   "metadata": {},
   "source": [
    "## Límites \n",
    "\n",
    "Los dos teoremás más conocidos y usados en probabilidad son la ley de los grande números y el teorema del límite central. Ambos nos dicen que le sucede a la media muestreal a medida que el tamaño de la muestra aumenta.\n",
    "\n",
    "### La ley de los grandes números (el casino siempre gana)\n",
    "\n",
    "El valor promedio calculado para una muestra converge al valor esperado (media) de dicha distribución. Al igual que el teorema del límite central esto no es cierto para la distribución de Cauchy (la cual no tiene media finita).\n",
    "\n",
    "La ley de los grandes números viene en dos sabores.\n",
    "\n",
    "* La versión fuerte: La media de la muestra $\\bar X_n$ converge a la media verdadera $\\mu$ cuando $n \\rightarrow \\infty$ con probabilidad 1.\n",
    "\n",
    "* La versión suave: Para todo $\\epsilon > 0$, $P(|\\bar X - \\mu| > \\epsilon) \\rightarrow 0$ cuando $n \\rightarrow \\infty$.\n",
    "\n",
    "\n",
    "La ley de los grandes números se suele malinterpretar y dar lugar a la paradoja del apostador. Un ejemplo de esta paradoja es creer que conviene apostar en la lotería/quiniela a un número _atrasado_, es decir un número que hace tiempo que no sale. El razonamiento, erróneo, es que como todos los números tienen la misma probabilidad a largo plazo si un número viene _atrasado_ entonces hay alguna especie de fuerza que aumenta la probabilidad de ese número en los próximo sorteos para así re-establecer la equiprobabilidad de los números."
   ]
  },
  {
   "cell_type": "code",
   "execution_count": null,
   "metadata": {
    "scrolled": false
   },
   "outputs": [],
   "source": [
    "tamaño_muestra = 200\n",
    "muestras = range(1, tamaño_muestra)\n",
    "media = 0.5\n",
    "\n",
    "for _ in range(3):\n",
    "    muestra = stats.uniform(0, 1).rvs(tamaño_muestra)\n",
    "    promedio = [muestra[:i].mean() for i in muestras]\n",
    "    plt.plot(muestras, promedio, lw=1.5)\n",
    "\n",
    "plt.hlines(media, 0, tamaño_muestra, linestyle='--', color='k')\n",
    "plt.ylabel(\"Promedio de las muestras\", fontsize=14)\n",
    "plt.xlabel(\"# de muestras\", fontsize=14);"
   ]
  },
  {
   "cell_type": "markdown",
   "metadata": {},
   "source": [
    "### El teorema del límite central\n",
    "\n",
    "El teorema del límite central (o teorema central del límite) establece que si tomamos $n$ valores (de forma independiente) de una distribución arbitraria la media $\\bar X$ de esos valores se _distribuirá aproximadamente como_ una Gaussiana a medida que ${n \\rightarrow \\infty}$:\n",
    "\n",
    "$$\\bar X_n \\dot\\sim \\mathcal{N} \\left(\\mu,  \\frac{\\sigma^2}{n}\\right)$$\n",
    "\n",
    "Donde $\\mu$ y $\\sigma^2$ son la media y varianza poblacionales.\n",
    "\n",
    "Para que el teorema del límite central se cumpla se deben cumplir los siguientes supuestos:\n",
    "\n",
    "1. Las variables se muestrean de forma independiente\n",
    "1. Las variables provienen de la misma distribución\n",
    "1. La media y la desviación estándar de la distribución tiene que ser finitas\n",
    "\n",
    "Los criterios 1 y 2 se pueden relajar _bastante_ y aún así obtendremos aproximadamente una Gaussiana, pero del criterio 3 no hay forma de escapar. Para distribuciones como la distribución de Cauchy, que no posen varianza definida este teorema no se aplica. El promedio de $N$ valores provenientes de una distribución Cauchy no siguen una Gaussiana sino una distribución de Cauchy.\n",
    "\n",
    "El teorema del límite central explica la prevalencia de la distribución Gaussiana en la naturaleza. Muchos de los fenómenos que estudiamos se pueden explicar como fluctuaciones alrededor de una media, o ser el resultado de la suma de muchos factores diferentes. Además, las Gaussianas son muy comunes en probabilidad, estadística y _machine learning_ la razón es que esta familia de distribuciones son matemáticamente simples de manipular.\n",
    "\n",
    "A continuación vemos una simulación que nos muestra el teorema del límite central en acción."
   ]
  },
  {
   "cell_type": "code",
   "execution_count": null,
   "metadata": {},
   "outputs": [],
   "source": [
    "plt.figure(figsize=(9,6))\n",
    "iters = 100\n",
    "distri = stats.expon(scale=30)\n",
    "mu, var = distri.stats(moments='mv')\n",
    "for i, n in enumerate([1, 10, 100]):\n",
    "    sample = np.mean(distri.rvs((n, iters)), axis=0)\n",
    "    plt.subplot(2, 3, i+1)\n",
    "    sns.kdeplot(sample, label=n)\n",
    "    plt.subplot(2, 3, i+4)\n",
    "    osm, osr = stats.probplot(sample, dist=stats.norm(mu, (var/n)**0.5), fit=False)\n",
    "    plt.plot(osm, osr, 'o')\n",
    "    plt.plot(osm, osm)\n",
    "    plt.xlabel('Valores esperados')\n",
    "    plt.ylabel('Valores observados')\n",
    "\n",
    "plt.tight_layout()"
   ]
  },
  {
   "cell_type": "markdown",
   "metadata": {},
   "source": [
    "## Ejercicios\n",
    "\n",
    "1. Siguiendo los axiomas de Kolmogorov\n",
    "    * Por qué la probabilidades no puede ser mayor a 1? \n",
    "2. Según la definición de probabilidad condicional\n",
    "    * Cual es el valor de $P(A|A)$?\n",
    "    * Cual es la probabilidad de $P(A, B)$?\n",
    "    * Cual es la probabilidad de $P(A, B)$ en el caso especial que $A$ y $B$ sean independientes\n",
    "    * Cuando se cumple que $P(A|B) = P(A)$\n",
    "    * Es posible que $P(A|B) > P(A)$, cuando?\n",
    "    * Es posible que $P(A|B) < P(A)$, cuando?\n",
    "    \n",
    "2."
   ]
  }
 ],
 "metadata": {
  "kernelspec": {
   "display_name": "Python 3",
   "language": "python",
   "name": "python3"
  },
  "language_info": {
   "codemirror_mode": {
    "name": "ipython",
    "version": 3
   },
   "file_extension": ".py",
   "mimetype": "text/x-python",
   "name": "python",
   "nbconvert_exporter": "python",
   "pygments_lexer": "ipython3",
   "version": "3.6.2"
  }
 },
 "nbformat": 4,
 "nbformat_minor": 2
}
